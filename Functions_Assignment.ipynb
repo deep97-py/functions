{
  "cells": [
    {
      "cell_type": "markdown",
      "source": [
        "# Functions"
      ],
      "metadata": {
        "id": "qsEkRURVt6UC"
      }
    },
    {
      "cell_type": "markdown",
      "source": [
        "QUE 1:- Explain the key features of Python that make it a popular choice for programming.\n",
        "ANS :-  Python is the most popular language in it industry. Following the key features that makes python popular choice.\n",
        "*   Easy to read and write - It's easy and readable syntex makes python easy to understand.\n",
        "*   Dynamically Typed - Python automatically  understands the type of veriable, you don't have to choose the type like other programming languages.\n",
        "*   Rich in libraries - Python includes a comprehensive standard library, with modules for file I/O, regular expressions, math, web development, and more.\n",
        "*   Large community support and eco system - A massive range of third-party libraries (like NumPy, Pandas, TensorFlow, Flask, and Django) supports everything from data science to web development. The large, active community ensures plenty of tutorials, documentation, and support.\n",
        "*   Portability - Python is cross-platform; you can run Python programs on Windows, macOS, Linux, etc., with minimal or no modification\n",
        "*   Integration Capabilities - Python can easily integrate with other languages (like C, C++, and Java) and technologies (like databases and web services).It's also widely used for scripting and automating tasks across different systems.\n",
        "\n",
        "\n",
        "\n",
        "\n",
        "\n",
        "\n",
        "\n",
        "\n"
      ],
      "metadata": {
        "id": "JNB8itOgu5H8"
      }
    },
    {
      "cell_type": "markdown",
      "source": [
        "QUE 2 :- Describe the role of predefined keywords in Python and provide examples of how they are used in a\n",
        "program?\n",
        "ANS :-   Keywords in python are predefine reserved words that have special meaning in this language.\n",
        "there importance :-\n",
        "*   These keywords help define the structure and flow of a Python program.\n",
        "*   Handle function and class definitions.\n",
        "*   Support error handling\n",
        "*   Represent boolean and null value\n",
        "\n",
        "\n",
        "\n"
      ],
      "metadata": {
        "id": "UEx4-bb6vt9e"
      }
    },
    {
      "cell_type": "code",
      "source": [
        "a = int(input(\"val1:\"))\n",
        "b = int(input(\"val2:\"))\n",
        "sum = a + b\n",
        "print(\"sum is\", sum)"
      ],
      "metadata": {
        "colab": {
          "base_uri": "https://localhost:8080/"
        },
        "id": "E3VMd3iIyXNr",
        "outputId": "c88deddc-64a2-4ce4-820a-5befedf97af2"
      },
      "execution_count": null,
      "outputs": [
        {
          "output_type": "stream",
          "name": "stdout",
          "text": [
            "val1:23\n",
            "val2:24\n",
            "sum is 47\n"
          ]
        }
      ]
    },
    {
      "cell_type": "markdown",
      "source": [
        "QUE 3 :- Compare and contrast mutable and immutable objects in Python with examples.\n",
        "\n",
        "ANS :- Mutable objects  -\n",
        "1.   Can be changed after creation\n",
        "2.   Changes in-place (same object in memory)\n",
        "3.   Good for collections that need updating\n",
        "4.   Example :- list, dict, set\n",
        "\n",
        "Immutable Objects -\n",
        "\n",
        "1.   Can not be changed after creation\n",
        "1.   New object is created for each change\n",
        "2.   Good for keys in dictionaries, hashable types\n",
        "2.   Example :- int, float, str, tuple\n",
        "\n",
        "\n",
        "\n",
        "\n"
      ],
      "metadata": {
        "id": "qCut-t10zdqs"
      }
    },
    {
      "cell_type": "code",
      "source": [
        "#Mutable :- List\n",
        "list = [\"a\", \"b\", \"c\", \"d\"]\n",
        "print(list)"
      ],
      "metadata": {
        "colab": {
          "base_uri": "https://localhost:8080/"
        },
        "id": "b9hn7UY5078t",
        "outputId": "08f1f6eb-8d3a-4e36-ef9f-64bbf59cb06f"
      },
      "execution_count": null,
      "outputs": [
        {
          "output_type": "stream",
          "name": "stdout",
          "text": [
            "['a', 'b', 'c', 'd']\n"
          ]
        }
      ]
    },
    {
      "cell_type": "code",
      "source": [
        "list.append(\"e\")\n",
        "print(list)"
      ],
      "metadata": {
        "colab": {
          "base_uri": "https://localhost:8080/"
        },
        "id": "QpEa6Osp1a--",
        "outputId": "4717f5f8-0e4f-4882-8656-c154ab3ebdec"
      },
      "execution_count": null,
      "outputs": [
        {
          "output_type": "stream",
          "name": "stdout",
          "text": [
            "['a', 'b', 'c', 'd', 'e']\n"
          ]
        }
      ]
    },
    {
      "cell_type": "code",
      "source": [
        "#immutable :- string\n",
        "string = \"Hello World\"\n",
        "string.append(\"this is deep\")\n",
        "print(string)"
      ],
      "metadata": {
        "colab": {
          "base_uri": "https://localhost:8080/",
          "height": 193
        },
        "id": "E66CT0H71jAE",
        "outputId": "63a15c28-44fe-4be0-b618-fcbaac4db2db"
      },
      "execution_count": null,
      "outputs": [
        {
          "output_type": "error",
          "ename": "AttributeError",
          "evalue": "'str' object has no attribute 'append'",
          "traceback": [
            "\u001b[0;31m---------------------------------------------------------------------------\u001b[0m",
            "\u001b[0;31mAttributeError\u001b[0m                            Traceback (most recent call last)",
            "\u001b[0;32m<ipython-input-10-d11cf3275b7e>\u001b[0m in \u001b[0;36m<cell line: 0>\u001b[0;34m()\u001b[0m\n\u001b[1;32m      1\u001b[0m \u001b[0;31m#immutable :- string\u001b[0m\u001b[0;34m\u001b[0m\u001b[0;34m\u001b[0m\u001b[0m\n\u001b[1;32m      2\u001b[0m \u001b[0mstring\u001b[0m \u001b[0;34m=\u001b[0m \u001b[0;34m\"Hello World\"\u001b[0m\u001b[0;34m\u001b[0m\u001b[0;34m\u001b[0m\u001b[0m\n\u001b[0;32m----> 3\u001b[0;31m \u001b[0mstring\u001b[0m\u001b[0;34m.\u001b[0m\u001b[0mappend\u001b[0m\u001b[0;34m(\u001b[0m\u001b[0;34m\"this is deep\"\u001b[0m\u001b[0;34m)\u001b[0m\u001b[0;34m\u001b[0m\u001b[0;34m\u001b[0m\u001b[0m\n\u001b[0m\u001b[1;32m      4\u001b[0m \u001b[0mprint\u001b[0m\u001b[0;34m(\u001b[0m\u001b[0mstring\u001b[0m\u001b[0;34m)\u001b[0m\u001b[0;34m\u001b[0m\u001b[0;34m\u001b[0m\u001b[0m\n",
            "\u001b[0;31mAttributeError\u001b[0m: 'str' object has no attribute 'append'"
          ]
        }
      ]
    },
    {
      "cell_type": "markdown",
      "source": [
        "QUE 4 :- Discuss the different types of operators in Python and provide examples of how they are used.\n",
        "\n",
        "ANS :- Operators are special symbols to perform operations on values and variables. below are the type of veriables -\n",
        "\n",
        "\n",
        "1.   Arithmetic Operators- used to perform arithmetic operation.\n",
        "*   Addition - '+'\n",
        "*   Subtraction - '-'\n",
        "*   Multiplication - '*'\n",
        "*   Division - '/'\n",
        "*   Modulus - '%'\n",
        "*   power - '**'\n",
        "\n",
        "2.   Comparison Operators - Used to compare values.\n",
        "*   Equal to\t- '='\n",
        "*   Not equal to\t- '!='\n",
        "*   Greater than and less than - '>' & '<'\n",
        "*   Greater than or equal to\t- '>='\n",
        "*   Less than or equal to\t-'<='\n",
        "\n",
        "\n",
        "3.   Assignment Operators - Used to assign values to variables.\n",
        "=, +=, -=, *=, /=, //=, %=, **=\n",
        "\n",
        "4.   Logical Operators - Used to combine conditional statements.\n",
        "*   and\n",
        "*   or\n",
        "*   not\n",
        "\n",
        "5.   Bitwise Operators - Operate on binary representations of integers.\n",
        "*   AND - '&'\n",
        "*   OR - \"`\"\n",
        "*   XOR -  '^'\n",
        "*   NOT - '~'\n",
        "*   Left shift - '<<'\n",
        "*   Right shift\t- '>>'\n",
        "\n",
        "6.   Identifiers - Test for presence in a sequence (like a list, string, etc.)\n",
        "*   in - present in sequence\n",
        "*   not in - not present"
      ],
      "metadata": {
        "id": "dJf0zS1p5hVB"
      }
    },
    {
      "cell_type": "markdown",
      "source": [
        "QUE 5:- Explain the concept of type casting in Python with examples.\n",
        "\n",
        "ANS :- Type casting (or type conversion) is the process of converting one data type into another.\n",
        "\n",
        "There are two types:\n",
        "\n",
        "Implicit Type Casting – Done automatically by Python.\n",
        "\n",
        "Explicit Type Casting – You do it manually using functions like int(), float(), str(), etc."
      ],
      "metadata": {
        "id": "p6RYLQbw_6Ea"
      }
    },
    {
      "cell_type": "code",
      "source": [
        "#Implicit Type Casting\n",
        "a = 5\n",
        "b = 0.2\n",
        "result = a + b\n",
        "\n",
        "print(result)\n",
        "print(type(result))\n",
        "\n",
        "#Explicit Type Casting\n",
        "a = int(9.54)\n",
        "b = str(5678)\n",
        "print(a)\n",
        "print(type(a))\n",
        "print(b)\n",
        "print(type(b))"
      ],
      "metadata": {
        "colab": {
          "base_uri": "https://localhost:8080/"
        },
        "id": "SVUFO8SmATJI",
        "outputId": "2ebc78c0-5a0b-4c9a-c045-ba8c1e8a6e4f"
      },
      "execution_count": 6,
      "outputs": [
        {
          "output_type": "stream",
          "name": "stdout",
          "text": [
            "5.2\n",
            "<class 'float'>\n",
            "9\n",
            "<class 'int'>\n",
            "5678\n",
            "<class 'str'>\n"
          ]
        }
      ]
    },
    {
      "cell_type": "markdown",
      "source": [
        "QUE 6:- How do conditional statements work in Python? Illustrate with examples?\n",
        "\n",
        "ANS :- Conditional statements let you run different blocks of code depending on whether a condition is True or False.\n",
        "\n",
        "The basic structure includes:\n",
        "*   if\n",
        "*   elif (else if)\n",
        "*   else\n",
        "\n",
        "Syntex -"
      ],
      "metadata": {
        "id": "Lhk5OBUxBvKG"
      }
    },
    {
      "cell_type": "code",
      "source": [
        "a1=int(input(\"Enter 1st no . = \"))\n",
        "a2=int(input(\"Enter 2nd no . = \"))\n",
        "a3=int(input(\"Enter 3rd no . = \"))\n",
        "a4=int(input(\"Enter 4th no . = \"))\n",
        "\n",
        "if(a1>a2 and a1>a3 and a1>a4):\n",
        "    print(\"1st no. is largest\")\n",
        "elif(a2>a3 and a2>a4):\n",
        "    print(\"2nd no. is largest\")\n",
        "elif(a3>a4):\n",
        "    print(\"3rd no. is largest\")\n",
        "else:\n",
        "    print(\"4th no. is largest\")"
      ],
      "metadata": {
        "colab": {
          "base_uri": "https://localhost:8080/"
        },
        "id": "vrvD7IWdB5Rx",
        "outputId": "4553f929-9401-444c-8c5c-171b8df6339c"
      },
      "execution_count": 7,
      "outputs": [
        {
          "output_type": "stream",
          "name": "stdout",
          "text": [
            "Enter 1st no . = 23\n",
            "Enter 2nd no . = 54\n",
            "Enter 3rd no . = 43\n",
            "Enter 4th no . = 87\n",
            "4th no. is largest\n"
          ]
        }
      ]
    },
    {
      "cell_type": "markdown",
      "source": [
        "QUE 7:- Describe the different types of loops in Python and their use cases with examples.\n",
        "\n",
        "AND :-"
      ],
      "metadata": {
        "id": "yGCQ87IaDG_i"
      }
    },
    {
      "cell_type": "code",
      "source": [
        "# 1. for loop - ed when you want to iterate over a sequence (like a list, string, tuple, or range).\n",
        "fruits = ['apple', 'banana', 'cherry']\n",
        "for fruit in fruits:\n",
        "    print(fruit)"
      ],
      "metadata": {
        "colab": {
          "base_uri": "https://localhost:8080/"
        },
        "id": "vnwHKotYEF86",
        "outputId": "9239d86f-79b6-4293-d6c9-c63f7c2004fb"
      },
      "execution_count": 8,
      "outputs": [
        {
          "output_type": "stream",
          "name": "stdout",
          "text": [
            "apple\n",
            "banana\n",
            "cherry\n"
          ]
        }
      ]
    },
    {
      "cell_type": "code",
      "source": [
        "# 2. while loop - Used when you want to repeat something until a condition is no longer true.\n",
        "count = 0\n",
        "while count < 3:\n",
        "    print(\"Counting:\", count)\n",
        "    count += 1"
      ],
      "metadata": {
        "colab": {
          "base_uri": "https://localhost:8080/"
        },
        "id": "CahcaW5AEPSh",
        "outputId": "cd7c7d55-f628-4187-8ca7-0c933022fb25"
      },
      "execution_count": 9,
      "outputs": [
        {
          "output_type": "stream",
          "name": "stdout",
          "text": [
            "Counting: 0\n",
            "Counting: 1\n",
            "Counting: 2\n"
          ]
        }
      ]
    },
    {
      "cell_type": "code",
      "source": [
        "# Loop control statements\n",
        "# 1. Continue -  skips the current iteration.\n",
        "for i in range(5):\n",
        "    if i == 2:\n",
        "        continue\n",
        "    print(i)\n",
        "\n",
        "\n",
        "# 2. break – exits the loop early.\n",
        "for i in range(10):\n",
        "    if i == 5:\n",
        "        break\n",
        "    print(i)"
      ],
      "metadata": {
        "colab": {
          "base_uri": "https://localhost:8080/"
        },
        "id": "8RliJTe-Ef9U",
        "outputId": "af27704b-ee2b-4607-c3bc-47fcf8d07ef1"
      },
      "execution_count": 12,
      "outputs": [
        {
          "output_type": "stream",
          "name": "stdout",
          "text": [
            "0\n",
            "1\n",
            "3\n",
            "4\n",
            "0\n",
            "1\n",
            "2\n",
            "3\n",
            "4\n"
          ]
        }
      ]
    }
  ],
  "metadata": {
    "colab": {
      "provenance": []
    },
    "kernelspec": {
      "display_name": "Python 3",
      "name": "python3"
    }
  },
  "nbformat": 4,
  "nbformat_minor": 0
}